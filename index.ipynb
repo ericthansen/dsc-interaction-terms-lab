{
 "cells": [
  {
   "cell_type": "markdown",
   "metadata": {},
   "source": [
    "# Interactions - Lab"
   ]
  },
  {
   "cell_type": "markdown",
   "metadata": {},
   "source": [
    "## Introduction"
   ]
  },
  {
   "cell_type": "markdown",
   "metadata": {},
   "source": [
    "In this lab, you'll explore interactions in the Ames Housing dataset."
   ]
  },
  {
   "cell_type": "markdown",
   "metadata": {},
   "source": [
    "## Objectives"
   ]
  },
  {
   "cell_type": "markdown",
   "metadata": {},
   "source": [
    "You will be able to:\n",
    "- Implement interaction terms in Python using the `sklearn` and `statsmodels` packages \n",
    "- Interpret interaction variables in the context of a real-world problem "
   ]
  },
  {
   "cell_type": "markdown",
   "metadata": {},
   "source": [
    "## Build a baseline model "
   ]
  },
  {
   "cell_type": "markdown",
   "metadata": {},
   "source": [
    "You'll use a couple of built-in functions, which we imported for you below: "
   ]
  },
  {
   "cell_type": "code",
   "execution_count": 31,
   "metadata": {},
   "outputs": [],
   "source": [
    "from sklearn.linear_model import LinearRegression\n",
    "from sklearn.model_selection import cross_val_score\n",
    "from sklearn.model_selection import KFold\n",
    "import pandas as pd\n",
    "import numpy as np\n",
    "import matplotlib.pyplot as plt"
   ]
  },
  {
   "cell_type": "markdown",
   "metadata": {},
   "source": [
    "If you still want to build a model in the end, you can do that, but this lab will just focus on finding meaningful insights in interactions and how they can improve $R^2$ values."
   ]
  },
  {
   "cell_type": "code",
   "execution_count": 32,
   "metadata": {},
   "outputs": [],
   "source": [
    "regression = LinearRegression()"
   ]
  },
  {
   "cell_type": "markdown",
   "metadata": {},
   "source": [
    "Create a baseline model which includes all the variables we selected from the Ames housing data set to predict the house prices. Then use 10-fold cross-validation and report the mean $R^2$ value as the baseline $R^2$."
   ]
  },
  {
   "cell_type": "code",
   "execution_count": 56,
   "metadata": {},
   "outputs": [
    {
     "data": {
      "text/plain": [
       "-0.1758349294225608"
      ]
     },
     "metadata": {},
     "output_type": "display_data"
    },
    {
     "data": {
      "text/plain": [
       "0.8237011324651722"
      ]
     },
     "metadata": {},
     "output_type": "display_data"
    }
   ],
   "source": [
    "ames = pd.read_csv('ames.csv')\n",
    "\n",
    "continuous = ['LotArea', '1stFlrSF', 'GrLivArea', 'SalePrice']\n",
    "categoricals = ['BldgType', 'KitchenQual', 'SaleType', 'MSZoning', 'Street', 'Neighborhood']\n",
    "\n",
    "## code here\n",
    "ames_cont = ames[continuous]\n",
    "\n",
    "# log features\n",
    "log_names = [f'{column}_log' for column in ames_cont.columns]\n",
    "\n",
    "ames_log = np.log(ames_cont)\n",
    "ames_log.columns = log_names\n",
    "\n",
    "# normalize (subract mean and divide by std)\n",
    "\n",
    "def normalize(feature):\n",
    "    return (feature - feature.mean()) / feature.std()\n",
    "\n",
    "ames_log_norm = ames_log.apply(normalize)\n",
    "\n",
    "# one hot encode categoricals\n",
    "ames_ohe = pd.get_dummies(ames[categoricals], prefix=categoricals, drop_first=True)\n",
    "\n",
    "preprocessed = pd.concat([ames_log_norm, ames_ohe], axis=1)\n",
    "\n",
    "X = preprocessed.drop('SalePrice_log', axis=1)\n",
    "y = preprocessed['SalePrice_log']\n",
    "\n",
    "from sklearn.model_selection import train_test_split\n",
    "X_train, X_test, y_train, y_test = train_test_split(X, y, test_size=0.2)#, random_state=42)\n",
    "#print(len(X_train), len(X_test), len(y_train), len(y_test))\n",
    "\n",
    "from sklearn.linear_model import LinearRegression\n",
    "linreg = LinearRegression()\n",
    "linreg.fit(X_train, y_train)\n",
    "linreg.\n",
    "\n",
    "from sklearn.metrics import mean_squared_error\n",
    "from sklearn.model_selection import cross_val_score\n",
    "\n",
    "\n",
    "scores=cross_val_score(linreg, X, y, cv=10,  scoring='neg_mean_squared_error')\n",
    "display(np.mean(scores))\n",
    "\n",
    "#alternately, without initial train/test split, a little more compact...\n",
    "regression = LinearRegression()\n",
    "crossvalidation = KFold(n_splits=10, shuffle=False)#, random_state=1)\n",
    "\n",
    "baseline = np.mean(cross_val_score(regression, X, y, scoring='r2', cv=crossvalidation))\n",
    "display(baseline)\n",
    "#display(np.mean(scores)-baseline)"
   ]
  },
  {
   "cell_type": "markdown",
   "metadata": {},
   "source": [
    "## See how interactions improve your baseline"
   ]
  },
  {
   "cell_type": "markdown",
   "metadata": {},
   "source": [
    "Next, create all possible combinations of interactions, loop over them and add them to the baseline model one by one to see how they affect the $R^2$. We'll look at the 3 interactions which have the biggest effect on our $R^2$, so print out the top 3 combinations.\n",
    "\n",
    "You will create a `for` loop to loop through all the combinations of 2 predictors. You can use `combinations` from itertools to create a list of all the pairwise combinations. To find more info on how this is done, have a look [here](https://docs.python.org/2/library/itertools.html).\n",
    "\n",
    "Since there are so many different neighbourhoods we will exclude"
   ]
  },
  {
   "cell_type": "code",
   "execution_count": 57,
   "metadata": {},
   "outputs": [],
   "source": [
    "from itertools import combinations"
   ]
  },
  {
   "cell_type": "code",
   "execution_count": 58,
   "metadata": {},
   "outputs": [],
   "source": [
    "# code to find top interactions by R^2 value here\n",
    "# regression = LinearRegression()\n",
    "# crossvalidation = KFold(n_splits=10, shuffle=True)#, random_state=1)\n",
    "import statsmodels.api as sm\n",
    "\n",
    "interactions=[]\n",
    "resultlist=[]\n",
    "for c1, c2 in combinations(X.columns,2):\n",
    "    #if c1 <= c2 and c1[:12]!='Neighborhood' and c2[:12]!='Neighborhood':\n",
    "    if c1 <= c2:\n",
    "        #print(c1,',', c2)\n",
    "        X_interact = X.copy()\n",
    "        X_interact[c1+'_'+c2] = X[c1] * X[c2]\n",
    "        \n",
    "        ##varstring = 'interact_'+c1+'_'+c2\n",
    "        #print(varstring)\n",
    "        ##exprstring = 'np.mean(cross_val_score(regression, X_interact, y, scoring='r2', cv=crossvalidation))'\n",
    "        ##eval(varstring + '=' + exprstring)\n",
    "        \n",
    "        interact_ab = np.mean(cross_val_score(regression, X_interact, y, scoring='r2', cv=crossvalidation))\n",
    "        interactions.append([interact_ab,c1+'_'+c2])\n",
    "        \n",
    "        \n",
    "#         X_interact = sm.add_constant(X_interact)\n",
    "#         model = sm.OLS(y,X_interact)\n",
    "#         results = model.fit()\n",
    "#         resultlist.append[[results., c1+'_'+c2]]\n",
    "\n",
    "results.summary()\n",
    "\n",
    "#print(sorted(interactions)[:3])"
   ]
  },
  {
   "cell_type": "code",
   "execution_count": 59,
   "metadata": {},
   "outputs": [
    {
     "name": "stdout",
     "output_type": "stream",
     "text": [
      "[[0.8254437261794813, 'LotArea_log_Neighborhood_Mitchel'], [0.8254555563770849, '1stFlrSF_log_BldgType_Duplex'], [0.8254722547789134, '1stFlrSF_log_KitchenQual_Gd'], [0.8256877982687391, 'GrLivArea_log_KitchenQual_Gd'], [0.8260420426206044, 'GrLivArea_log_KitchenQual_TA']]\n"
     ]
    }
   ],
   "source": [
    "print(sorted(interactions)[-5:])"
   ]
  },
  {
   "cell_type": "markdown",
   "metadata": {},
   "source": [
    "It looks like the top interactions involve the Neighborhood_Edwards feature so lets add the interaction between LotArea and Edwards to our model.\n",
    "\n",
    "We can interpret this feature as the relationship between LotArea and SalePrice when the house is in Edwards or not."
   ]
  },
  {
   "cell_type": "markdown",
   "metadata": {},
   "source": [
    "## Visualize the Interaction\n",
    "\n",
    "Separate all houses that are located in Edwards and those that are not. Run a linear regression on each population against `SalePrice`. Visualize the regression line and data points with price on the y axis and LotArea on the x axis."
   ]
  },
  {
   "cell_type": "code",
   "execution_count": 73,
   "metadata": {},
   "outputs": [
    {
     "data": {
      "text/plain": [
       "0       0.559876\n",
       "1       0.212692\n",
       "2       0.733795\n",
       "3      -0.437232\n",
       "4       1.014303\n",
       "          ...   \n",
       "1455    0.121392\n",
       "1456    0.577822\n",
       "1457    1.174306\n",
       "1458   -0.399519\n",
       "1459   -0.306589\n",
       "Name: SalePrice_log, Length: 1460, dtype: float64"
      ]
     },
     "execution_count": 73,
     "metadata": {},
     "output_type": "execute_result"
    }
   ],
   "source": [
    "noed.columns\n",
    "y"
   ]
  },
  {
   "cell_type": "code",
   "execution_count": 77,
   "metadata": {},
   "outputs": [
    {
     "name": "stdout",
     "output_type": "stream",
     "text": [
      "[0.41414117]\n",
      "[0.15513419]\n"
     ]
    },
    {
     "data": {
      "text/plain": [
       "<Figure size 864x504 with 0 Axes>"
      ]
     },
     "metadata": {},
     "output_type": "display_data"
    },
    {
     "data": {
      "image/png": "[encoded data removed]",
      "text/plain": [
       "<Figure size 720x432 with 1 Axes>"
      ]
     },
     "metadata": {
      "needs_background": "light"
     },
     "output_type": "display_data"
    }
   ],
   "source": [
    "# Visualization code here\n",
    "X2=preprocessed.copy()\n",
    "noed = X2[X2['Neighborhood_Edwards']!=1]\n",
    "noed.head()\n",
    "#X.head()\n",
    "ed = X2[X2['Neighborhood_Edwards']==1]\n",
    "\n",
    "plt.figure(figsize=(12,7))\n",
    "\n",
    "regression_1 = LinearRegression()\n",
    "regression_2 = LinearRegression()\n",
    "\n",
    "lot_noed = noed['LotArea_log'].values.reshape(-1, 1)\n",
    "lot_ed = ed['LotArea_log'].values.reshape(-1, 1)\n",
    "\n",
    "\n",
    "regression_1.fit(lot_noed, noed['SalePrice_log'])\n",
    "regression_2.fit(lot_ed, ed['SalePrice_log'])\n",
    "\n",
    "# Make predictions using the testing set\n",
    "pred_1 = regression_1.predict(lot_noed)\n",
    "pred_2 = regression_2.predict(lot_ed)\n",
    "\n",
    "# The coefficients\n",
    "print(regression_1.coef_)\n",
    "print(regression_2.coef_)\n",
    "############\n",
    "plt.figure(figsize=(10,6))\n",
    "\n",
    "plt.scatter(lot_noed, noed['SalePrice_log'],  color='blue', alpha = 0.3, label = 'Not Edwards Nbhd')\n",
    "plt.scatter(lot_ed, ed['SalePrice_log'],  color='red', alpha = 0.3, label = 'Edwards Nbhd')\n",
    "\n",
    "plt.plot(lot_noed, pred_1,  color='blue', linewidth=2)\n",
    "plt.plot(lot_ed, pred_2,  color='red', linewidth=2)\n",
    "\n",
    "plt.ylabel('SalePrice_log')\n",
    "plt.xlabel('LotArea_log')\n",
    "plt.legend();\n"
   ]
  },
  {
   "cell_type": "markdown",
   "metadata": {},
   "source": [
    "## Build a final model with interactions"
   ]
  },
  {
   "cell_type": "markdown",
   "metadata": {},
   "source": [
    "Use 10-fold cross-validation to build a model using the above interaction. "
   ]
  },
  {
   "cell_type": "code",
   "execution_count": 80,
   "metadata": {},
   "outputs": [
    {
     "data": {
      "text/plain": [
       "0.8188308850559454"
      ]
     },
     "metadata": {},
     "output_type": "display_data"
    },
    {
     "name": "stderr",
     "output_type": "stream",
     "text": [
      "/opt/conda/lib/python3.9/site-packages/statsmodels/tsa/tsatools.py:142: FutureWarning: In a future version of pandas all arguments of concat except for the argument 'objs' will be keyword-only\n",
      "  x = pd.concat(x[::order], 1)\n"
     ]
    },
    {
     "data": {
      "text/html": [
       "<table class=\"simpletable\">\n",
       "<caption>OLS Regression Results</caption>\n",
       "<tr>\n",
       "  <th>Dep. Variable:</th>      <td>SalePrice_log</td>  <th>  R-squared:         </th> <td>   0.841</td>\n",
       "</tr>\n",
       "<tr>\n",
       "  <th>Model:</th>                   <td>OLS</td>       <th>  Adj. R-squared:    </th> <td>   0.836</td>\n",
       "</tr>\n",
       "<tr>\n",
       "  <th>Method:</th>             <td>Least Squares</td>  <th>  F-statistic:       </th> <td>   156.0</td>\n",
       "</tr>\n",
       "<tr>\n",
       "  <th>Date:</th>             <td>Fri, 20 Aug 2021</td> <th>  Prob (F-statistic):</th>  <td>  0.00</td> \n",
       "</tr>\n",
       "<tr>\n",
       "  <th>Time:</th>                 <td>17:52:30</td>     <th>  Log-Likelihood:    </th> <td> -726.69</td>\n",
       "</tr>\n",
       "<tr>\n",
       "  <th>No. Observations:</th>      <td>  1460</td>      <th>  AIC:               </th> <td>   1551.</td>\n",
       "</tr>\n",
       "<tr>\n",
       "  <th>Df Residuals:</th>          <td>  1411</td>      <th>  BIC:               </th> <td>   1810.</td>\n",
       "</tr>\n",
       "<tr>\n",
       "  <th>Df Model:</th>              <td>    48</td>      <th>                     </th>     <td> </td>   \n",
       "</tr>\n",
       "<tr>\n",
       "  <th>Covariance Type:</th>      <td>nonrobust</td>    <th>                     </th>     <td> </td>   \n",
       "</tr>\n",
       "</table>\n",
       "<table class=\"simpletable\">\n",
       "<tr>\n",
       "            <td></td>              <th>coef</th>     <th>std err</th>      <th>t</th>      <th>P>|t|</th>  <th>[0.025</th>    <th>0.975]</th>  \n",
       "</tr>\n",
       "<tr>\n",
       "  <th>const</th>                <td>   -0.1465</td> <td>    0.261</td> <td>   -0.561</td> <td> 0.575</td> <td>   -0.659</td> <td>    0.366</td>\n",
       "</tr>\n",
       "<tr>\n",
       "  <th>LotArea_log</th>          <td>    0.1214</td> <td>    0.019</td> <td>    6.353</td> <td> 0.000</td> <td>    0.084</td> <td>    0.159</td>\n",
       "</tr>\n",
       "<tr>\n",
       "  <th>1stFlrSF_log</th>         <td>    0.1401</td> <td>    0.016</td> <td>    8.829</td> <td> 0.000</td> <td>    0.109</td> <td>    0.171</td>\n",
       "</tr>\n",
       "<tr>\n",
       "  <th>GrLivArea_log</th>        <td>    0.3760</td> <td>    0.016</td> <td>   24.240</td> <td> 0.000</td> <td>    0.346</td> <td>    0.406</td>\n",
       "</tr>\n",
       "<tr>\n",
       "  <th>BldgType_2fmCon</th>      <td>   -0.1785</td> <td>    0.078</td> <td>   -2.278</td> <td> 0.023</td> <td>   -0.332</td> <td>   -0.025</td>\n",
       "</tr>\n",
       "<tr>\n",
       "  <th>BldgType_Duplex</th>      <td>   -0.4166</td> <td>    0.061</td> <td>   -6.803</td> <td> 0.000</td> <td>   -0.537</td> <td>   -0.296</td>\n",
       "</tr>\n",
       "<tr>\n",
       "  <th>BldgType_Twnhs</th>       <td>   -0.1623</td> <td>    0.092</td> <td>   -1.761</td> <td> 0.079</td> <td>   -0.343</td> <td>    0.019</td>\n",
       "</tr>\n",
       "<tr>\n",
       "  <th>BldgType_TwnhsE</th>      <td>   -0.0472</td> <td>    0.059</td> <td>   -0.797</td> <td> 0.425</td> <td>   -0.163</td> <td>    0.069</td>\n",
       "</tr>\n",
       "<tr>\n",
       "  <th>KitchenQual_Fa</th>       <td>   -0.9975</td> <td>    0.088</td> <td>  -11.373</td> <td> 0.000</td> <td>   -1.170</td> <td>   -0.825</td>\n",
       "</tr>\n",
       "<tr>\n",
       "  <th>KitchenQual_Gd</th>       <td>   -0.3934</td> <td>    0.050</td> <td>   -7.889</td> <td> 0.000</td> <td>   -0.491</td> <td>   -0.296</td>\n",
       "</tr>\n",
       "<tr>\n",
       "  <th>KitchenQual_TA</th>       <td>   -0.6784</td> <td>    0.055</td> <td>  -12.361</td> <td> 0.000</td> <td>   -0.786</td> <td>   -0.571</td>\n",
       "</tr>\n",
       "<tr>\n",
       "  <th>SaleType_CWD</th>         <td>    0.2229</td> <td>    0.214</td> <td>    1.043</td> <td> 0.297</td> <td>   -0.196</td> <td>    0.642</td>\n",
       "</tr>\n",
       "<tr>\n",
       "  <th>SaleType_Con</th>         <td>    0.5797</td> <td>    0.302</td> <td>    1.920</td> <td> 0.055</td> <td>   -0.012</td> <td>    1.172</td>\n",
       "</tr>\n",
       "<tr>\n",
       "  <th>SaleType_ConLD</th>       <td>    0.3132</td> <td>    0.154</td> <td>    2.032</td> <td> 0.042</td> <td>    0.011</td> <td>    0.616</td>\n",
       "</tr>\n",
       "<tr>\n",
       "  <th>SaleType_ConLI</th>       <td>    0.0627</td> <td>    0.194</td> <td>    0.323</td> <td> 0.747</td> <td>   -0.318</td> <td>    0.443</td>\n",
       "</tr>\n",
       "<tr>\n",
       "  <th>SaleType_ConLw</th>       <td>    0.0272</td> <td>    0.194</td> <td>    0.140</td> <td> 0.889</td> <td>   -0.354</td> <td>    0.408</td>\n",
       "</tr>\n",
       "<tr>\n",
       "  <th>SaleType_New</th>         <td>    0.2999</td> <td>    0.078</td> <td>    3.831</td> <td> 0.000</td> <td>    0.146</td> <td>    0.453</td>\n",
       "</tr>\n",
       "<tr>\n",
       "  <th>SaleType_Oth</th>         <td>    0.0888</td> <td>    0.244</td> <td>    0.364</td> <td> 0.716</td> <td>   -0.389</td> <td>    0.567</td>\n",
       "</tr>\n",
       "<tr>\n",
       "  <th>SaleType_WD</th>          <td>    0.1716</td> <td>    0.065</td> <td>    2.647</td> <td> 0.008</td> <td>    0.044</td> <td>    0.299</td>\n",
       "</tr>\n",
       "<tr>\n",
       "  <th>MSZoning_FV</th>          <td>    1.1496</td> <td>    0.192</td> <td>    5.975</td> <td> 0.000</td> <td>    0.772</td> <td>    1.527</td>\n",
       "</tr>\n",
       "<tr>\n",
       "  <th>MSZoning_RH</th>          <td>    0.9027</td> <td>    0.193</td> <td>    4.678</td> <td> 0.000</td> <td>    0.524</td> <td>    1.281</td>\n",
       "</tr>\n",
       "<tr>\n",
       "  <th>MSZoning_RL</th>          <td>    1.0462</td> <td>    0.161</td> <td>    6.495</td> <td> 0.000</td> <td>    0.730</td> <td>    1.362</td>\n",
       "</tr>\n",
       "<tr>\n",
       "  <th>MSZoning_RM</th>          <td>    1.1090</td> <td>    0.151</td> <td>    7.363</td> <td> 0.000</td> <td>    0.814</td> <td>    1.405</td>\n",
       "</tr>\n",
       "<tr>\n",
       "  <th>Street_Pave</th>          <td>   -0.2045</td> <td>    0.179</td> <td>   -1.142</td> <td> 0.253</td> <td>   -0.556</td> <td>    0.147</td>\n",
       "</tr>\n",
       "<tr>\n",
       "  <th>Neighborhood_Blueste</th> <td>    0.1381</td> <td>    0.316</td> <td>    0.437</td> <td> 0.662</td> <td>   -0.482</td> <td>    0.758</td>\n",
       "</tr>\n",
       "<tr>\n",
       "  <th>Neighborhood_BrDale</th>  <td>   -0.3734</td> <td>    0.170</td> <td>   -2.191</td> <td> 0.029</td> <td>   -0.708</td> <td>   -0.039</td>\n",
       "</tr>\n",
       "<tr>\n",
       "  <th>Neighborhood_BrkSide</th> <td>   -0.6506</td> <td>    0.136</td> <td>   -4.777</td> <td> 0.000</td> <td>   -0.918</td> <td>   -0.383</td>\n",
       "</tr>\n",
       "<tr>\n",
       "  <th>Neighborhood_ClearCr</th> <td>   -0.2707</td> <td>    0.144</td> <td>   -1.882</td> <td> 0.060</td> <td>   -0.553</td> <td>    0.011</td>\n",
       "</tr>\n",
       "<tr>\n",
       "  <th>Neighborhood_CollgCr</th> <td>   -0.1055</td> <td>    0.118</td> <td>   -0.894</td> <td> 0.371</td> <td>   -0.337</td> <td>    0.126</td>\n",
       "</tr>\n",
       "<tr>\n",
       "  <th>Neighborhood_Crawfor</th> <td>   -0.1171</td> <td>    0.128</td> <td>   -0.913</td> <td> 0.361</td> <td>   -0.369</td> <td>    0.134</td>\n",
       "</tr>\n",
       "<tr>\n",
       "  <th>Neighborhood_Edwards</th> <td>   -0.7890</td> <td>    0.123</td> <td>   -6.407</td> <td> 0.000</td> <td>   -1.031</td> <td>   -0.547</td>\n",
       "</tr>\n",
       "<tr>\n",
       "  <th>Neighborhood_Gilbert</th> <td>   -0.1332</td> <td>    0.125</td> <td>   -1.062</td> <td> 0.289</td> <td>   -0.379</td> <td>    0.113</td>\n",
       "</tr>\n",
       "<tr>\n",
       "  <th>Neighborhood_IDOTRR</th>  <td>   -0.9417</td> <td>    0.159</td> <td>   -5.931</td> <td> 0.000</td> <td>   -1.253</td> <td>   -0.630</td>\n",
       "</tr>\n",
       "<tr>\n",
       "  <th>Neighborhood_MeadowV</th> <td>   -0.6203</td> <td>    0.159</td> <td>   -3.913</td> <td> 0.000</td> <td>   -0.931</td> <td>   -0.309</td>\n",
       "</tr>\n",
       "<tr>\n",
       "  <th>Neighborhood_Mitchel</th> <td>   -0.2877</td> <td>    0.131</td> <td>   -2.204</td> <td> 0.028</td> <td>   -0.544</td> <td>   -0.032</td>\n",
       "</tr>\n",
       "<tr>\n",
       "  <th>Neighborhood_NAmes</th>   <td>   -0.4757</td> <td>    0.120</td> <td>   -3.978</td> <td> 0.000</td> <td>   -0.710</td> <td>   -0.241</td>\n",
       "</tr>\n",
       "<tr>\n",
       "  <th>Neighborhood_NPkVill</th> <td>   -0.0038</td> <td>    0.172</td> <td>   -0.022</td> <td> 0.982</td> <td>   -0.341</td> <td>    0.334</td>\n",
       "</tr>\n",
       "<tr>\n",
       "  <th>Neighborhood_NWAmes</th>  <td>   -0.3087</td> <td>    0.125</td> <td>   -2.460</td> <td> 0.014</td> <td>   -0.555</td> <td>   -0.063</td>\n",
       "</tr>\n",
       "<tr>\n",
       "  <th>Neighborhood_NoRidge</th> <td>    0.3181</td> <td>    0.132</td> <td>    2.409</td> <td> 0.016</td> <td>    0.059</td> <td>    0.577</td>\n",
       "</tr>\n",
       "<tr>\n",
       "  <th>Neighborhood_NridgHt</th> <td>    0.3212</td> <td>    0.119</td> <td>    2.696</td> <td> 0.007</td> <td>    0.087</td> <td>    0.555</td>\n",
       "</tr>\n",
       "<tr>\n",
       "  <th>Neighborhood_OldTown</th> <td>   -0.9223</td> <td>    0.139</td> <td>   -6.643</td> <td> 0.000</td> <td>   -1.195</td> <td>   -0.650</td>\n",
       "</tr>\n",
       "<tr>\n",
       "  <th>Neighborhood_SWISU</th>   <td>   -0.7208</td> <td>    0.143</td> <td>   -5.026</td> <td> 0.000</td> <td>   -1.002</td> <td>   -0.439</td>\n",
       "</tr>\n",
       "<tr>\n",
       "  <th>Neighborhood_Sawyer</th>  <td>   -0.5102</td> <td>    0.127</td> <td>   -4.023</td> <td> 0.000</td> <td>   -0.759</td> <td>   -0.261</td>\n",
       "</tr>\n",
       "<tr>\n",
       "  <th>Neighborhood_SawyerW</th> <td>   -0.2647</td> <td>    0.125</td> <td>   -2.124</td> <td> 0.034</td> <td>   -0.509</td> <td>   -0.020</td>\n",
       "</tr>\n",
       "<tr>\n",
       "  <th>Neighborhood_Somerst</th> <td>    0.0503</td> <td>    0.144</td> <td>    0.350</td> <td> 0.726</td> <td>   -0.232</td> <td>    0.332</td>\n",
       "</tr>\n",
       "<tr>\n",
       "  <th>Neighborhood_StoneBr</th> <td>    0.3926</td> <td>    0.132</td> <td>    2.971</td> <td> 0.003</td> <td>    0.133</td> <td>    0.652</td>\n",
       "</tr>\n",
       "<tr>\n",
       "  <th>Neighborhood_Timber</th>  <td>   -0.0455</td> <td>    0.133</td> <td>   -0.341</td> <td> 0.733</td> <td>   -0.307</td> <td>    0.216</td>\n",
       "</tr>\n",
       "<tr>\n",
       "  <th>Neighborhood_Veenker</th> <td>    0.0785</td> <td>    0.168</td> <td>    0.466</td> <td> 0.641</td> <td>   -0.252</td> <td>    0.409</td>\n",
       "</tr>\n",
       "<tr>\n",
       "  <th>lot_ed</th>               <td>   -0.2309</td> <td>    0.049</td> <td>   -4.722</td> <td> 0.000</td> <td>   -0.327</td> <td>   -0.135</td>\n",
       "</tr>\n",
       "</table>\n",
       "<table class=\"simpletable\">\n",
       "<tr>\n",
       "  <th>Omnibus:</th>       <td>202.084</td> <th>  Durbin-Watson:     </th> <td>   1.962</td> \n",
       "</tr>\n",
       "<tr>\n",
       "  <th>Prob(Omnibus):</th> <td> 0.000</td>  <th>  Jarque-Bera (JB):  </th> <td> 615.237</td> \n",
       "</tr>\n",
       "<tr>\n",
       "  <th>Skew:</th>          <td>-0.700</td>  <th>  Prob(JB):          </th> <td>2.53e-134</td>\n",
       "</tr>\n",
       "<tr>\n",
       "  <th>Kurtosis:</th>      <td> 5.855</td>  <th>  Cond. No.          </th> <td>    109.</td> \n",
       "</tr>\n",
       "</table><br/><br/>Notes:<br/>[1] Standard Errors assume that the covariance matrix of the errors is correctly specified."
      ],
      "text/plain": [
       "<class 'statsmodels.iolib.summary.Summary'>\n",
       "\"\"\"\n",
       "                            OLS Regression Results                            \n",
       "==============================================================================\n",
       "Dep. Variable:          SalePrice_log   R-squared:                       0.841\n",
       "Model:                            OLS   Adj. R-squared:                  0.836\n",
       "Method:                 Least Squares   F-statistic:                     156.0\n",
       "Date:                Fri, 20 Aug 2021   Prob (F-statistic):               0.00\n",
       "Time:                        17:52:30   Log-Likelihood:                -726.69\n",
       "No. Observations:                1460   AIC:                             1551.\n",
       "Df Residuals:                    1411   BIC:                             1810.\n",
       "Df Model:                          48                                         \n",
       "Covariance Type:            nonrobust                                         \n",
       "========================================================================================\n",
       "                           coef    std err          t      P>|t|      [0.025      0.975]\n",
       "----------------------------------------------------------------------------------------\n",
       "const                   -0.1465      0.261     -0.561      0.575      -0.659       0.366\n",
       "LotArea_log              0.1214      0.019      6.353      0.000       0.084       0.159\n",
       "1stFlrSF_log             0.1401      0.016      8.829      0.000       0.109       0.171\n",
       "GrLivArea_log            0.3760      0.016     24.240      0.000       0.346       0.406\n",
       "BldgType_2fmCon         -0.1785      0.078     -2.278      0.023      -0.332      -0.025\n",
       "BldgType_Duplex         -0.4166      0.061     -6.803      0.000      -0.537      -0.296\n",
       "BldgType_Twnhs          -0.1623      0.092     -1.761      0.079      -0.343       0.019\n",
       "BldgType_TwnhsE         -0.0472      0.059     -0.797      0.425      -0.163       0.069\n",
       "KitchenQual_Fa          -0.9975      0.088    -11.373      0.000      -1.170      -0.825\n",
       "KitchenQual_Gd          -0.3934      0.050     -7.889      0.000      -0.491      -0.296\n",
       "KitchenQual_TA          -0.6784      0.055    -12.361      0.000      -0.786      -0.571\n",
       "SaleType_CWD             0.2229      0.214      1.043      0.297      -0.196       0.642\n",
       "SaleType_Con             0.5797      0.302      1.920      0.055      -0.012       1.172\n",
       "SaleType_ConLD           0.3132      0.154      2.032      0.042       0.011       0.616\n",
       "SaleType_ConLI           0.0627      0.194      0.323      0.747      -0.318       0.443\n",
       "SaleType_ConLw           0.0272      0.194      0.140      0.889      -0.354       0.408\n",
       "SaleType_New             0.2999      0.078      3.831      0.000       0.146       0.453\n",
       "SaleType_Oth             0.0888      0.244      0.364      0.716      -0.389       0.567\n",
       "SaleType_WD              0.1716      0.065      2.647      0.008       0.044       0.299\n",
       "MSZoning_FV              1.1496      0.192      5.975      0.000       0.772       1.527\n",
       "MSZoning_RH              0.9027      0.193      4.678      0.000       0.524       1.281\n",
       "MSZoning_RL              1.0462      0.161      6.495      0.000       0.730       1.362\n",
       "MSZoning_RM              1.1090      0.151      7.363      0.000       0.814       1.405\n",
       "Street_Pave             -0.2045      0.179     -1.142      0.253      -0.556       0.147\n",
       "Neighborhood_Blueste     0.1381      0.316      0.437      0.662      -0.482       0.758\n",
       "Neighborhood_BrDale     -0.3734      0.170     -2.191      0.029      -0.708      -0.039\n",
       "Neighborhood_BrkSide    -0.6506      0.136     -4.777      0.000      -0.918      -0.383\n",
       "Neighborhood_ClearCr    -0.2707      0.144     -1.882      0.060      -0.553       0.011\n",
       "Neighborhood_CollgCr    -0.1055      0.118     -0.894      0.371      -0.337       0.126\n",
       "Neighborhood_Crawfor    -0.1171      0.128     -0.913      0.361      -0.369       0.134\n",
       "Neighborhood_Edwards    -0.7890      0.123     -6.407      0.000      -1.031      -0.547\n",
       "Neighborhood_Gilbert    -0.1332      0.125     -1.062      0.289      -0.379       0.113\n",
       "Neighborhood_IDOTRR     -0.9417      0.159     -5.931      0.000      -1.253      -0.630\n",
       "Neighborhood_MeadowV    -0.6203      0.159     -3.913      0.000      -0.931      -0.309\n",
       "Neighborhood_Mitchel    -0.2877      0.131     -2.204      0.028      -0.544      -0.032\n",
       "Neighborhood_NAmes      -0.4757      0.120     -3.978      0.000      -0.710      -0.241\n",
       "Neighborhood_NPkVill    -0.0038      0.172     -0.022      0.982      -0.341       0.334\n",
       "Neighborhood_NWAmes     -0.3087      0.125     -2.460      0.014      -0.555      -0.063\n",
       "Neighborhood_NoRidge     0.3181      0.132      2.409      0.016       0.059       0.577\n",
       "Neighborhood_NridgHt     0.3212      0.119      2.696      0.007       0.087       0.555\n",
       "Neighborhood_OldTown    -0.9223      0.139     -6.643      0.000      -1.195      -0.650\n",
       "Neighborhood_SWISU      -0.7208      0.143     -5.026      0.000      -1.002      -0.439\n",
       "Neighborhood_Sawyer     -0.5102      0.127     -4.023      0.000      -0.759      -0.261\n",
       "Neighborhood_SawyerW    -0.2647      0.125     -2.124      0.034      -0.509      -0.020\n",
       "Neighborhood_Somerst     0.0503      0.144      0.350      0.726      -0.232       0.332\n",
       "Neighborhood_StoneBr     0.3926      0.132      2.971      0.003       0.133       0.652\n",
       "Neighborhood_Timber     -0.0455      0.133     -0.341      0.733      -0.307       0.216\n",
       "Neighborhood_Veenker     0.0785      0.168      0.466      0.641      -0.252       0.409\n",
       "lot_ed                  -0.2309      0.049     -4.722      0.000      -0.327      -0.135\n",
       "==============================================================================\n",
       "Omnibus:                      202.084   Durbin-Watson:                   1.962\n",
       "Prob(Omnibus):                  0.000   Jarque-Bera (JB):              615.237\n",
       "Skew:                          -0.700   Prob(JB):                    2.53e-134\n",
       "Kurtosis:                       5.855   Cond. No.                         109.\n",
       "==============================================================================\n",
       "\n",
       "Notes:\n",
       "[1] Standard Errors assume that the covariance matrix of the errors is correctly specified.\n",
       "\"\"\""
      ]
     },
     "execution_count": 80,
     "metadata": {},
     "output_type": "execute_result"
    }
   ],
   "source": [
    "# code here\n",
    "regression = LinearRegression()\n",
    "crossvalidation = KFold(n_splits=10, shuffle=True, random_state=1)\n",
    "\n",
    "X_interact_2 = X.copy()\n",
    "X_interact_2['lot_ed'] = X['LotArea_log'] * X['Neighborhood_Edwards']\n",
    "\n",
    "interact_lot_ed = np.mean(cross_val_score(regression, X_interact_2, y, scoring='r2', cv=crossvalidation))\n",
    "display(interact_lot_ed)\n",
    "\n",
    "\n"
   ]
  },
  {
   "cell_type": "markdown",
   "metadata": {},
   "source": [
    "Our $R^2$ has increased considerably! Let's have a look in `statsmodels` to see if this interactions are significant."
   ]
  },
  {
   "cell_type": "code",
   "execution_count": 81,
   "metadata": {},
   "outputs": [
    {
     "name": "stderr",
     "output_type": "stream",
     "text": [
      "/opt/conda/lib/python3.9/site-packages/statsmodels/tsa/tsatools.py:142: FutureWarning: In a future version of pandas all arguments of concat except for the argument 'objs' will be keyword-only\n",
      "  x = pd.concat(x[::order], 1)\n"
     ]
    },
    {
     "data": {
      "text/html": [
       "<table class=\"simpletable\">\n",
       "<caption>OLS Regression Results</caption>\n",
       "<tr>\n",
       "  <th>Dep. Variable:</th>      <td>SalePrice_log</td>  <th>  R-squared:         </th> <td>   0.841</td>\n",
       "</tr>\n",
       "<tr>\n",
       "  <th>Model:</th>                   <td>OLS</td>       <th>  Adj. R-squared:    </th> <td>   0.836</td>\n",
       "</tr>\n",
       "<tr>\n",
       "  <th>Method:</th>             <td>Least Squares</td>  <th>  F-statistic:       </th> <td>   156.0</td>\n",
       "</tr>\n",
       "<tr>\n",
       "  <th>Date:</th>             <td>Fri, 20 Aug 2021</td> <th>  Prob (F-statistic):</th>  <td>  0.00</td> \n",
       "</tr>\n",
       "<tr>\n",
       "  <th>Time:</th>                 <td>17:53:57</td>     <th>  Log-Likelihood:    </th> <td> -726.69</td>\n",
       "</tr>\n",
       "<tr>\n",
       "  <th>No. Observations:</th>      <td>  1460</td>      <th>  AIC:               </th> <td>   1551.</td>\n",
       "</tr>\n",
       "<tr>\n",
       "  <th>Df Residuals:</th>          <td>  1411</td>      <th>  BIC:               </th> <td>   1810.</td>\n",
       "</tr>\n",
       "<tr>\n",
       "  <th>Df Model:</th>              <td>    48</td>      <th>                     </th>     <td> </td>   \n",
       "</tr>\n",
       "<tr>\n",
       "  <th>Covariance Type:</th>      <td>nonrobust</td>    <th>                     </th>     <td> </td>   \n",
       "</tr>\n",
       "</table>\n",
       "<table class=\"simpletable\">\n",
       "<tr>\n",
       "            <td></td>              <th>coef</th>     <th>std err</th>      <th>t</th>      <th>P>|t|</th>  <th>[0.025</th>    <th>0.975]</th>  \n",
       "</tr>\n",
       "<tr>\n",
       "  <th>const</th>                <td>   -0.1465</td> <td>    0.261</td> <td>   -0.561</td> <td> 0.575</td> <td>   -0.659</td> <td>    0.366</td>\n",
       "</tr>\n",
       "<tr>\n",
       "  <th>LotArea_log</th>          <td>    0.1214</td> <td>    0.019</td> <td>    6.353</td> <td> 0.000</td> <td>    0.084</td> <td>    0.159</td>\n",
       "</tr>\n",
       "<tr>\n",
       "  <th>1stFlrSF_log</th>         <td>    0.1401</td> <td>    0.016</td> <td>    8.829</td> <td> 0.000</td> <td>    0.109</td> <td>    0.171</td>\n",
       "</tr>\n",
       "<tr>\n",
       "  <th>GrLivArea_log</th>        <td>    0.3760</td> <td>    0.016</td> <td>   24.240</td> <td> 0.000</td> <td>    0.346</td> <td>    0.406</td>\n",
       "</tr>\n",
       "<tr>\n",
       "  <th>BldgType_2fmCon</th>      <td>   -0.1785</td> <td>    0.078</td> <td>   -2.278</td> <td> 0.023</td> <td>   -0.332</td> <td>   -0.025</td>\n",
       "</tr>\n",
       "<tr>\n",
       "  <th>BldgType_Duplex</th>      <td>   -0.4166</td> <td>    0.061</td> <td>   -6.803</td> <td> 0.000</td> <td>   -0.537</td> <td>   -0.296</td>\n",
       "</tr>\n",
       "<tr>\n",
       "  <th>BldgType_Twnhs</th>       <td>   -0.1623</td> <td>    0.092</td> <td>   -1.761</td> <td> 0.079</td> <td>   -0.343</td> <td>    0.019</td>\n",
       "</tr>\n",
       "<tr>\n",
       "  <th>BldgType_TwnhsE</th>      <td>   -0.0472</td> <td>    0.059</td> <td>   -0.797</td> <td> 0.425</td> <td>   -0.163</td> <td>    0.069</td>\n",
       "</tr>\n",
       "<tr>\n",
       "  <th>KitchenQual_Fa</th>       <td>   -0.9975</td> <td>    0.088</td> <td>  -11.373</td> <td> 0.000</td> <td>   -1.170</td> <td>   -0.825</td>\n",
       "</tr>\n",
       "<tr>\n",
       "  <th>KitchenQual_Gd</th>       <td>   -0.3934</td> <td>    0.050</td> <td>   -7.889</td> <td> 0.000</td> <td>   -0.491</td> <td>   -0.296</td>\n",
       "</tr>\n",
       "<tr>\n",
       "  <th>KitchenQual_TA</th>       <td>   -0.6784</td> <td>    0.055</td> <td>  -12.361</td> <td> 0.000</td> <td>   -0.786</td> <td>   -0.571</td>\n",
       "</tr>\n",
       "<tr>\n",
       "  <th>SaleType_CWD</th>         <td>    0.2229</td> <td>    0.214</td> <td>    1.043</td> <td> 0.297</td> <td>   -0.196</td> <td>    0.642</td>\n",
       "</tr>\n",
       "<tr>\n",
       "  <th>SaleType_Con</th>         <td>    0.5797</td> <td>    0.302</td> <td>    1.920</td> <td> 0.055</td> <td>   -0.012</td> <td>    1.172</td>\n",
       "</tr>\n",
       "<tr>\n",
       "  <th>SaleType_ConLD</th>       <td>    0.3132</td> <td>    0.154</td> <td>    2.032</td> <td> 0.042</td> <td>    0.011</td> <td>    0.616</td>\n",
       "</tr>\n",
       "<tr>\n",
       "  <th>SaleType_ConLI</th>       <td>    0.0627</td> <td>    0.194</td> <td>    0.323</td> <td> 0.747</td> <td>   -0.318</td> <td>    0.443</td>\n",
       "</tr>\n",
       "<tr>\n",
       "  <th>SaleType_ConLw</th>       <td>    0.0272</td> <td>    0.194</td> <td>    0.140</td> <td> 0.889</td> <td>   -0.354</td> <td>    0.408</td>\n",
       "</tr>\n",
       "<tr>\n",
       "  <th>SaleType_New</th>         <td>    0.2999</td> <td>    0.078</td> <td>    3.831</td> <td> 0.000</td> <td>    0.146</td> <td>    0.453</td>\n",
       "</tr>\n",
       "<tr>\n",
       "  <th>SaleType_Oth</th>         <td>    0.0888</td> <td>    0.244</td> <td>    0.364</td> <td> 0.716</td> <td>   -0.389</td> <td>    0.567</td>\n",
       "</tr>\n",
       "<tr>\n",
       "  <th>SaleType_WD</th>          <td>    0.1716</td> <td>    0.065</td> <td>    2.647</td> <td> 0.008</td> <td>    0.044</td> <td>    0.299</td>\n",
       "</tr>\n",
       "<tr>\n",
       "  <th>MSZoning_FV</th>          <td>    1.1496</td> <td>    0.192</td> <td>    5.975</td> <td> 0.000</td> <td>    0.772</td> <td>    1.527</td>\n",
       "</tr>\n",
       "<tr>\n",
       "  <th>MSZoning_RH</th>          <td>    0.9027</td> <td>    0.193</td> <td>    4.678</td> <td> 0.000</td> <td>    0.524</td> <td>    1.281</td>\n",
       "</tr>\n",
       "<tr>\n",
       "  <th>MSZoning_RL</th>          <td>    1.0462</td> <td>    0.161</td> <td>    6.495</td> <td> 0.000</td> <td>    0.730</td> <td>    1.362</td>\n",
       "</tr>\n",
       "<tr>\n",
       "  <th>MSZoning_RM</th>          <td>    1.1090</td> <td>    0.151</td> <td>    7.363</td> <td> 0.000</td> <td>    0.814</td> <td>    1.405</td>\n",
       "</tr>\n",
       "<tr>\n",
       "  <th>Street_Pave</th>          <td>   -0.2045</td> <td>    0.179</td> <td>   -1.142</td> <td> 0.253</td> <td>   -0.556</td> <td>    0.147</td>\n",
       "</tr>\n",
       "<tr>\n",
       "  <th>Neighborhood_Blueste</th> <td>    0.1381</td> <td>    0.316</td> <td>    0.437</td> <td> 0.662</td> <td>   -0.482</td> <td>    0.758</td>\n",
       "</tr>\n",
       "<tr>\n",
       "  <th>Neighborhood_BrDale</th>  <td>   -0.3734</td> <td>    0.170</td> <td>   -2.191</td> <td> 0.029</td> <td>   -0.708</td> <td>   -0.039</td>\n",
       "</tr>\n",
       "<tr>\n",
       "  <th>Neighborhood_BrkSide</th> <td>   -0.6506</td> <td>    0.136</td> <td>   -4.777</td> <td> 0.000</td> <td>   -0.918</td> <td>   -0.383</td>\n",
       "</tr>\n",
       "<tr>\n",
       "  <th>Neighborhood_ClearCr</th> <td>   -0.2707</td> <td>    0.144</td> <td>   -1.882</td> <td> 0.060</td> <td>   -0.553</td> <td>    0.011</td>\n",
       "</tr>\n",
       "<tr>\n",
       "  <th>Neighborhood_CollgCr</th> <td>   -0.1055</td> <td>    0.118</td> <td>   -0.894</td> <td> 0.371</td> <td>   -0.337</td> <td>    0.126</td>\n",
       "</tr>\n",
       "<tr>\n",
       "  <th>Neighborhood_Crawfor</th> <td>   -0.1171</td> <td>    0.128</td> <td>   -0.913</td> <td> 0.361</td> <td>   -0.369</td> <td>    0.134</td>\n",
       "</tr>\n",
       "<tr>\n",
       "  <th>Neighborhood_Edwards</th> <td>   -0.7890</td> <td>    0.123</td> <td>   -6.407</td> <td> 0.000</td> <td>   -1.031</td> <td>   -0.547</td>\n",
       "</tr>\n",
       "<tr>\n",
       "  <th>Neighborhood_Gilbert</th> <td>   -0.1332</td> <td>    0.125</td> <td>   -1.062</td> <td> 0.289</td> <td>   -0.379</td> <td>    0.113</td>\n",
       "</tr>\n",
       "<tr>\n",
       "  <th>Neighborhood_IDOTRR</th>  <td>   -0.9417</td> <td>    0.159</td> <td>   -5.931</td> <td> 0.000</td> <td>   -1.253</td> <td>   -0.630</td>\n",
       "</tr>\n",
       "<tr>\n",
       "  <th>Neighborhood_MeadowV</th> <td>   -0.6203</td> <td>    0.159</td> <td>   -3.913</td> <td> 0.000</td> <td>   -0.931</td> <td>   -0.309</td>\n",
       "</tr>\n",
       "<tr>\n",
       "  <th>Neighborhood_Mitchel</th> <td>   -0.2877</td> <td>    0.131</td> <td>   -2.204</td> <td> 0.028</td> <td>   -0.544</td> <td>   -0.032</td>\n",
       "</tr>\n",
       "<tr>\n",
       "  <th>Neighborhood_NAmes</th>   <td>   -0.4757</td> <td>    0.120</td> <td>   -3.978</td> <td> 0.000</td> <td>   -0.710</td> <td>   -0.241</td>\n",
       "</tr>\n",
       "<tr>\n",
       "  <th>Neighborhood_NPkVill</th> <td>   -0.0038</td> <td>    0.172</td> <td>   -0.022</td> <td> 0.982</td> <td>   -0.341</td> <td>    0.334</td>\n",
       "</tr>\n",
       "<tr>\n",
       "  <th>Neighborhood_NWAmes</th>  <td>   -0.3087</td> <td>    0.125</td> <td>   -2.460</td> <td> 0.014</td> <td>   -0.555</td> <td>   -0.063</td>\n",
       "</tr>\n",
       "<tr>\n",
       "  <th>Neighborhood_NoRidge</th> <td>    0.3181</td> <td>    0.132</td> <td>    2.409</td> <td> 0.016</td> <td>    0.059</td> <td>    0.577</td>\n",
       "</tr>\n",
       "<tr>\n",
       "  <th>Neighborhood_NridgHt</th> <td>    0.3212</td> <td>    0.119</td> <td>    2.696</td> <td> 0.007</td> <td>    0.087</td> <td>    0.555</td>\n",
       "</tr>\n",
       "<tr>\n",
       "  <th>Neighborhood_OldTown</th> <td>   -0.9223</td> <td>    0.139</td> <td>   -6.643</td> <td> 0.000</td> <td>   -1.195</td> <td>   -0.650</td>\n",
       "</tr>\n",
       "<tr>\n",
       "  <th>Neighborhood_SWISU</th>   <td>   -0.7208</td> <td>    0.143</td> <td>   -5.026</td> <td> 0.000</td> <td>   -1.002</td> <td>   -0.439</td>\n",
       "</tr>\n",
       "<tr>\n",
       "  <th>Neighborhood_Sawyer</th>  <td>   -0.5102</td> <td>    0.127</td> <td>   -4.023</td> <td> 0.000</td> <td>   -0.759</td> <td>   -0.261</td>\n",
       "</tr>\n",
       "<tr>\n",
       "  <th>Neighborhood_SawyerW</th> <td>   -0.2647</td> <td>    0.125</td> <td>   -2.124</td> <td> 0.034</td> <td>   -0.509</td> <td>   -0.020</td>\n",
       "</tr>\n",
       "<tr>\n",
       "  <th>Neighborhood_Somerst</th> <td>    0.0503</td> <td>    0.144</td> <td>    0.350</td> <td> 0.726</td> <td>   -0.232</td> <td>    0.332</td>\n",
       "</tr>\n",
       "<tr>\n",
       "  <th>Neighborhood_StoneBr</th> <td>    0.3926</td> <td>    0.132</td> <td>    2.971</td> <td> 0.003</td> <td>    0.133</td> <td>    0.652</td>\n",
       "</tr>\n",
       "<tr>\n",
       "  <th>Neighborhood_Timber</th>  <td>   -0.0455</td> <td>    0.133</td> <td>   -0.341</td> <td> 0.733</td> <td>   -0.307</td> <td>    0.216</td>\n",
       "</tr>\n",
       "<tr>\n",
       "  <th>Neighborhood_Veenker</th> <td>    0.0785</td> <td>    0.168</td> <td>    0.466</td> <td> 0.641</td> <td>   -0.252</td> <td>    0.409</td>\n",
       "</tr>\n",
       "<tr>\n",
       "  <th>lot_ed</th>               <td>   -0.2309</td> <td>    0.049</td> <td>   -4.722</td> <td> 0.000</td> <td>   -0.327</td> <td>   -0.135</td>\n",
       "</tr>\n",
       "</table>\n",
       "<table class=\"simpletable\">\n",
       "<tr>\n",
       "  <th>Omnibus:</th>       <td>202.084</td> <th>  Durbin-Watson:     </th> <td>   1.962</td> \n",
       "</tr>\n",
       "<tr>\n",
       "  <th>Prob(Omnibus):</th> <td> 0.000</td>  <th>  Jarque-Bera (JB):  </th> <td> 615.237</td> \n",
       "</tr>\n",
       "<tr>\n",
       "  <th>Skew:</th>          <td>-0.700</td>  <th>  Prob(JB):          </th> <td>2.53e-134</td>\n",
       "</tr>\n",
       "<tr>\n",
       "  <th>Kurtosis:</th>      <td> 5.855</td>  <th>  Cond. No.          </th> <td>    109.</td> \n",
       "</tr>\n",
       "</table><br/><br/>Notes:<br/>[1] Standard Errors assume that the covariance matrix of the errors is correctly specified."
      ],
      "text/plain": [
       "<class 'statsmodels.iolib.summary.Summary'>\n",
       "\"\"\"\n",
       "                            OLS Regression Results                            \n",
       "==============================================================================\n",
       "Dep. Variable:          SalePrice_log   R-squared:                       0.841\n",
       "Model:                            OLS   Adj. R-squared:                  0.836\n",
       "Method:                 Least Squares   F-statistic:                     156.0\n",
       "Date:                Fri, 20 Aug 2021   Prob (F-statistic):               0.00\n",
       "Time:                        17:53:57   Log-Likelihood:                -726.69\n",
       "No. Observations:                1460   AIC:                             1551.\n",
       "Df Residuals:                    1411   BIC:                             1810.\n",
       "Df Model:                          48                                         \n",
       "Covariance Type:            nonrobust                                         \n",
       "========================================================================================\n",
       "                           coef    std err          t      P>|t|      [0.025      0.975]\n",
       "----------------------------------------------------------------------------------------\n",
       "const                   -0.1465      0.261     -0.561      0.575      -0.659       0.366\n",
       "LotArea_log              0.1214      0.019      6.353      0.000       0.084       0.159\n",
       "1stFlrSF_log             0.1401      0.016      8.829      0.000       0.109       0.171\n",
       "GrLivArea_log            0.3760      0.016     24.240      0.000       0.346       0.406\n",
       "BldgType_2fmCon         -0.1785      0.078     -2.278      0.023      -0.332      -0.025\n",
       "BldgType_Duplex         -0.4166      0.061     -6.803      0.000      -0.537      -0.296\n",
       "BldgType_Twnhs          -0.1623      0.092     -1.761      0.079      -0.343       0.019\n",
       "BldgType_TwnhsE         -0.0472      0.059     -0.797      0.425      -0.163       0.069\n",
       "KitchenQual_Fa          -0.9975      0.088    -11.373      0.000      -1.170      -0.825\n",
       "KitchenQual_Gd          -0.3934      0.050     -7.889      0.000      -0.491      -0.296\n",
       "KitchenQual_TA          -0.6784      0.055    -12.361      0.000      -0.786      -0.571\n",
       "SaleType_CWD             0.2229      0.214      1.043      0.297      -0.196       0.642\n",
       "SaleType_Con             0.5797      0.302      1.920      0.055      -0.012       1.172\n",
       "SaleType_ConLD           0.3132      0.154      2.032      0.042       0.011       0.616\n",
       "SaleType_ConLI           0.0627      0.194      0.323      0.747      -0.318       0.443\n",
       "SaleType_ConLw           0.0272      0.194      0.140      0.889      -0.354       0.408\n",
       "SaleType_New             0.2999      0.078      3.831      0.000       0.146       0.453\n",
       "SaleType_Oth             0.0888      0.244      0.364      0.716      -0.389       0.567\n",
       "SaleType_WD              0.1716      0.065      2.647      0.008       0.044       0.299\n",
       "MSZoning_FV              1.1496      0.192      5.975      0.000       0.772       1.527\n",
       "MSZoning_RH              0.9027      0.193      4.678      0.000       0.524       1.281\n",
       "MSZoning_RL              1.0462      0.161      6.495      0.000       0.730       1.362\n",
       "MSZoning_RM              1.1090      0.151      7.363      0.000       0.814       1.405\n",
       "Street_Pave             -0.2045      0.179     -1.142      0.253      -0.556       0.147\n",
       "Neighborhood_Blueste     0.1381      0.316      0.437      0.662      -0.482       0.758\n",
       "Neighborhood_BrDale     -0.3734      0.170     -2.191      0.029      -0.708      -0.039\n",
       "Neighborhood_BrkSide    -0.6506      0.136     -4.777      0.000      -0.918      -0.383\n",
       "Neighborhood_ClearCr    -0.2707      0.144     -1.882      0.060      -0.553       0.011\n",
       "Neighborhood_CollgCr    -0.1055      0.118     -0.894      0.371      -0.337       0.126\n",
       "Neighborhood_Crawfor    -0.1171      0.128     -0.913      0.361      -0.369       0.134\n",
       "Neighborhood_Edwards    -0.7890      0.123     -6.407      0.000      -1.031      -0.547\n",
       "Neighborhood_Gilbert    -0.1332      0.125     -1.062      0.289      -0.379       0.113\n",
       "Neighborhood_IDOTRR     -0.9417      0.159     -5.931      0.000      -1.253      -0.630\n",
       "Neighborhood_MeadowV    -0.6203      0.159     -3.913      0.000      -0.931      -0.309\n",
       "Neighborhood_Mitchel    -0.2877      0.131     -2.204      0.028      -0.544      -0.032\n",
       "Neighborhood_NAmes      -0.4757      0.120     -3.978      0.000      -0.710      -0.241\n",
       "Neighborhood_NPkVill    -0.0038      0.172     -0.022      0.982      -0.341       0.334\n",
       "Neighborhood_NWAmes     -0.3087      0.125     -2.460      0.014      -0.555      -0.063\n",
       "Neighborhood_NoRidge     0.3181      0.132      2.409      0.016       0.059       0.577\n",
       "Neighborhood_NridgHt     0.3212      0.119      2.696      0.007       0.087       0.555\n",
       "Neighborhood_OldTown    -0.9223      0.139     -6.643      0.000      -1.195      -0.650\n",
       "Neighborhood_SWISU      -0.7208      0.143     -5.026      0.000      -1.002      -0.439\n",
       "Neighborhood_Sawyer     -0.5102      0.127     -4.023      0.000      -0.759      -0.261\n",
       "Neighborhood_SawyerW    -0.2647      0.125     -2.124      0.034      -0.509      -0.020\n",
       "Neighborhood_Somerst     0.0503      0.144      0.350      0.726      -0.232       0.332\n",
       "Neighborhood_StoneBr     0.3926      0.132      2.971      0.003       0.133       0.652\n",
       "Neighborhood_Timber     -0.0455      0.133     -0.341      0.733      -0.307       0.216\n",
       "Neighborhood_Veenker     0.0785      0.168      0.466      0.641      -0.252       0.409\n",
       "lot_ed                  -0.2309      0.049     -4.722      0.000      -0.327      -0.135\n",
       "==============================================================================\n",
       "Omnibus:                      202.084   Durbin-Watson:                   1.962\n",
       "Prob(Omnibus):                  0.000   Jarque-Bera (JB):              615.237\n",
       "Skew:                          -0.700   Prob(JB):                    2.53e-134\n",
       "Kurtosis:                       5.855   Cond. No.                         109.\n",
       "==============================================================================\n",
       "\n",
       "Notes:\n",
       "[1] Standard Errors assume that the covariance matrix of the errors is correctly specified.\n",
       "\"\"\""
      ]
     },
     "execution_count": 81,
     "metadata": {},
     "output_type": "execute_result"
    }
   ],
   "source": [
    "# code here\n",
    "import statsmodels.api as sm\n",
    "X_interact_2 = sm.add_constant(X_interact_2)\n",
    "model = sm.OLS(y,X_interact_2)\n",
    "results = model.fit()\n",
    "\n",
    "results.summary()"
   ]
  },
  {
   "cell_type": "markdown",
   "metadata": {},
   "source": [
    "What is your conclusion here?"
   ]
  },
  {
   "cell_type": "code",
   "execution_count": null,
   "metadata": {},
   "outputs": [],
   "source": [
    "# formulate your conclusion\n",
    "#There is a confounding relationship of lot area and Edwards-neighborhood-ness on SalePrice.\n",
    "#By including this interaction, we increase the validity of our model."
   ]
  },
  {
   "cell_type": "markdown",
   "metadata": {},
   "source": [
    "## Summary"
   ]
  },
  {
   "cell_type": "markdown",
   "metadata": {},
   "source": [
    "You should now understand how to include interaction effects in your model! As you can see, interactions can have a strong impact on linear regression models, and they should always be considered when you are constructing your models."
   ]
  }
 ],
 "metadata": {
  "kernelspec": {
   "display_name": "Python 3",
   "language": "python",
   "name": "python3"
  },
  "language_info": {
   "codemirror_mode": {
    "name": "ipython",
    "version": 3
   },
   "file_extension": ".py",
   "mimetype": "text/x-python",
   "name": "python",
   "nbconvert_exporter": "python",
   "pygments_lexer": "ipython3",
   "version": "3.9.5"
  }
 },
 "nbformat": 4,
 "nbformat_minor": 2
}
